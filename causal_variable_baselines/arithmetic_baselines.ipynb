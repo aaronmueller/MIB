{
 "cells": [
  {
   "cell_type": "code",
   "execution_count": null,
   "metadata": {},
   "outputs": [],
   "source": [
    "from ..CausalAbstraction.tasks.two_digit_addition_task.arithmetic import get_token_positions, get_task"
   ]
  },
  {
   "cell_type": "code",
   "execution_count": null,
   "metadata": {},
   "outputs": [],
   "source": [
    "task = get_task(hf=True,size=10000)\n",
    "print(\"Raw input:\")\n",
    "print(task.raw_all_data[\"input\"][0])\n",
    "task.display_counterfactual_data() "
   ]
  },
  {
   "cell_type": "code",
   "execution_count": null,
   "metadata": {},
   "outputs": [],
   "source": [
    "import torch\n",
    "torch.cuda.empty_cache()"
   ]
  },
  {
   "cell_type": "code",
   "execution_count": null,
   "metadata": {},
   "outputs": [],
   "source": [
    "from ..CausalAbstraction.pipeline import LMPipeline\n",
    "import torch\n",
    "\n",
    "device = \"cuda:1\" if torch.cuda.is_available() else \"cpu\"\n",
    "\n",
    "# model_name = \"meta-llama/Meta-Llama-3.1-8B-Instruct\"\n",
    "# model_name = \"Qwen/Qwen2.5-0.5B\"\n",
    "model_name = \"google/gemma-2-2b\"\n",
    "\n",
    "if \"llama\" in model_name:\n",
    "    max_new_tokens = 1\n",
    "elif \"gemma\" in model_name:\n",
    "    max_new_tokens = 3\n",
    "\n",
    "def checker(output_text, expected):\n",
    "    if expected[0] == \"0\":\n",
    "        expected = expected[1:]\n",
    "        if max_new_tokens == 3:\n",
    "            return output_text[-3:-1] == expected\n",
    "    return expected == output_text\n",
    "\n",
    "\n",
    "pipeline = LMPipeline(model_name, max_new_tokens=max_new_tokens, device=device, dtype=torch.float16)\n",
    "pipeline.tokenizer.padding_side = \"left\"\n",
    "batch_size = 1024\n",
    "print(\"DEVICE:\", pipeline.model.device)\n",
    "\n",
    "print(\"INPUT:\", task.raw_all_data[\"input\"][0])\n",
    "print(\"LABEL:\", task.raw_all_data[\"label\"][0])\n",
    "print(\"PREDICTION:\", pipeline.dump(pipeline.generate(task.raw_all_data[\"input\"][0])))\n",
    "\n",
    "task.filter(pipeline, checker, verbose=True, batch_size=batch_size)"
   ]
  },
  {
   "cell_type": "code",
   "execution_count": null,
   "metadata": {},
   "outputs": [],
   "source": [
    "\n",
    "token_positions = get_token_positions(pipeline, task)\n",
    "input = task.sample_raw_input()\n",
    "print(input)\n",
    "for token_position in token_positions:\n",
    "    print(token_position.highlight_selected_token(input))"
   ]
  },
  {
   "cell_type": "code",
   "execution_count": null,
   "metadata": {},
   "outputs": [],
   "source": [
    "import gc\n",
    "gc.collect()\n",
    "torch.cuda.empty_cache()\n",
    "\n",
    "start = 0\n",
    "end = pipeline.get_num_layers()\n",
    "config={\"batch_size\":256 , \"evaluation_batch_size\": batch_size, \"training_epoch\":1, \"n_features\":16, \"regularization_coefficient\":0.0, \"output_scores\":False}\n",
    "names = [\"random\", \"ones_carry\"]\n",
    "train_data = [name + \"_train\" for name in names]\n",
    "validation_data = [name + \"_validation\" for name in names]\n",
    "test_data = [name + \"_test\" for name in names]\n",
    "test_data += [name + \"_testprivate\" for name in names]\n",
    "verbose = True\n",
    "results_dir = \"math_results\""
   ]
  },
  {
   "cell_type": "code",
   "execution_count": null,
   "metadata": {},
   "outputs": [],
   "source": [
    "from ..CausalAbstraction.experiments.aggregate_experiments import residual_stream_baselines\n",
    "residual_stream_baselines(pipeline=pipeline, task=task, token_positions=token_positions, train_data=train_data, test_data=test_data, config=config, target_variables=[\"ones_carry\"], checker=checker, start=start, end=end, verbose=verbose, results_dir=results_dir, \n",
    "                          methods=[\"DBM+SAE\"])"
   ]
  }
 ],
 "metadata": {
  "kernelspec": {
   "display_name": "base",
   "language": "python",
   "name": "python3"
  },
  "language_info": {
   "codemirror_mode": {
    "name": "ipython",
    "version": 3
   },
   "file_extension": ".py",
   "mimetype": "text/x-python",
   "name": "python",
   "nbconvert_exporter": "python",
   "pygments_lexer": "ipython3",
   "version": "3.8.3"
  }
 },
 "nbformat": 4,
 "nbformat_minor": 2
}
